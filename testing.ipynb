{
 "cells": [
  {
   "cell_type": "markdown",
   "id": "4f76fc94",
   "metadata": {},
   "source": [
    "### Merging all paquet files at start of job...\n"
   ]
  },
  {
   "cell_type": "code",
   "execution_count": 1,
   "id": "cf04ae33",
   "metadata": {},
   "outputs": [],
   "source": [
    "from pyspark.mllib.tree import RandomForest, RandomForestModel\n",
    "from pyspark.mllib.util import MLUtils\n",
    "from pyspark.sql import SparkSession\n",
    "\n",
    "\n",
    "def loadMongoRDD(spark):\n",
    "    '''\n",
    "    Download data from mongodb and store it in RDD format\n",
    "    '''\n",
    "\n",
    "    dataRDD = spark.read.format(\"mongo\") \\\n",
    "        .option('uri', f\"mongodb://10.4.41.48/project3.new_data\") \\\n",
    "        .load() \\\n",
    "        .rdd \\\n",
    "        .cache()\n",
    "\n",
    "    return dataRDD"
   ]
  },
  {
   "cell_type": "code",
   "execution_count": 6,
   "id": "0b8bfb4f",
   "metadata": {},
   "outputs": [
    {
     "name": "stderr",
     "output_type": "stream",
     "text": [
      "                                                                                \r"
     ]
    }
   ],
   "source": [
    "spark = SparkSession \\\n",
    "    .builder \\\n",
    "    .master(f\"local[*]\") \\\n",
    "    .appName(\"myApp\") \\\n",
    "    .config('spark.jars.packages', 'org.mongodb.spark:mongo-spark-connector_2.12:3.0.1') \\\n",
    "    .getOrCreate()\n",
    "\n",
    "rdd = loadMongoRDD(spark)"
   ]
  },
  {
   "cell_type": "code",
   "execution_count": 9,
   "id": "8e85ba87",
   "metadata": {},
   "outputs": [
    {
     "data": {
      "text/plain": [
       "[Row(District='Ciutat Vella', Info Idealista=[Row(date='2021_02_12', price=490000.0, size=74.0, rooms=2, bedrooms=1), Row(date='2021_03_09', price=495000.0, size=153.0, rooms=0, bedrooms=0), Row(date='2021_02_12', price=1125000.0, size=164.0, rooms=2, bedrooms=3), Row(date='2021_02_12', price=250000.0, size=60.0, rooms=2, bedrooms=1), Row(date='2020_07_19', price=209000.0, size=70.0, rooms=3, bedrooms=1), Row(date='2021_02_12', price=190000.0, size=50.0, rooms=0, bedrooms=1), Row(date='2021_02_12', price=725000.0, size=175.0, rooms=6, bedrooms=2), Row(date='2020_11_15', price=349000.0, size=63.0, rooms=2, bedrooms=1), Row(date='2021_02_12', price=490000.0, size=153.0, rooms=5, bedrooms=3), Row(date='2021_02_12', price=199000.0, size=47.0, rooms=1, bedrooms=1), Row(date='2021_03_09', price=358000.0, size=100.0, rooms=5, bedrooms=1), Row(date='2021_02_12', price=135000.0, size=41.0, rooms=0, bedrooms=1), Row(date='2021_02_12', price=390000.0, size=110.0, rooms=3, bedrooms=2), Row(date='2021_02_12', price=299000.0, size=70.0, rooms=2, bedrooms=1), Row(date='2021_02_12', price=155000.0, size=79.0, rooms=2, bedrooms=1), Row(date='2021_02_12', price=299000.0, size=70.0, rooms=2, bedrooms=1), Row(date='2021_02_12', price=530000.0, size=80.0, rooms=2, bedrooms=2), Row(date='2021_02_12', price=530000.0, size=105.0, rooms=2, bedrooms=2), Row(date='2021_03_09', price=286000.0, size=70.0, rooms=2, bedrooms=1), Row(date='2021_01_25', price=225000.0, size=66.0, rooms=2, bedrooms=2), Row(date='2021_02_12', price=380000.0, size=100.0, rooms=5, bedrooms=1), Row(date='2021_03_09', price=395000.0, size=116.0, rooms=2, bedrooms=1), Row(date='2021_02_12', price=380000.0, size=84.0, rooms=2, bedrooms=1), Row(date='2021_02_12', price=510000.0, size=81.0, rooms=2, bedrooms=2), Row(date='2021_02_12', price=485000.0, size=85.0, rooms=3, bedrooms=1), Row(date='2021_02_12', price=290000.0, size=52.0, rooms=1, bedrooms=1), Row(date='2021_02_12', price=270000.0, size=65.0, rooms=1, bedrooms=1), Row(date='2021_02_12', price=145000.0, size=45.0, rooms=2, bedrooms=1), Row(date='2021_02_12', price=295000.0, size=75.0, rooms=2, bedrooms=1), Row(date='2021_02_12', price=380000.0, size=69.0, rooms=2, bedrooms=1), Row(date='2021_02_12', price=270000.0, size=81.0, rooms=2, bedrooms=1), Row(date='2021_03_09', price=249000.0, size=114.0, rooms=3, bedrooms=2), Row(date='2021_02_12', price=358000.0, size=100.0, rooms=5, bedrooms=1), Row(date='2021_02_12', price=1250000.0, size=214.0, rooms=6, bedrooms=3), Row(date='2021_03_09', price=174520.0, size=53.0, rooms=3, bedrooms=1), Row(date='2021_02_12', price=218000.0, size=66.0, rooms=2, bedrooms=2), Row(date='2021_02_12', price=480000.0, size=111.0, rooms=2, bedrooms=1), Row(date='2020_07_27', price=349000.0, size=86.0, rooms=3, bedrooms=1), Row(date='2021_03_09', price=330000.0, size=84.0, rooms=2, bedrooms=2), Row(date='2021_02_12', price=350000.0, size=94.0, rooms=2, bedrooms=1), Row(date='2021_03_09', price=265000.0, size=70.0, rooms=4, bedrooms=1), Row(date='2021_02_12', price=380000.0, size=69.0, rooms=2, bedrooms=1), Row(date='2021_02_12', price=295000.0, size=75.0, rooms=2, bedrooms=1), Row(date='2021_03_09', price=200000.0, size=50.0, rooms=0, bedrooms=1), Row(date='2021_02_12', price=530000.0, size=81.0, rooms=2, bedrooms=2), Row(date='2021_03_09', price=299000.0, size=70.0, rooms=2, bedrooms=1), Row(date='2021_03_09', price=360000.0, size=65.0, rooms=1, bedrooms=1), Row(date='2021_02_12', price=169000.0, size=64.0, rooms=2, bedrooms=1), Row(date='2020_07_19', price=395000.0, size=120.0, rooms=2, bedrooms=1), Row(date='2021_02_12', price=358000.0, size=100.0, rooms=5, bedrooms=1), Row(date='2021_02_12', price=118000.0, size=48.0, rooms=1, bedrooms=1), Row(date='2021_02_12', price=255000.0, size=64.0, rooms=2, bedrooms=1), Row(date='2021_02_12', price=590000.0, size=136.0, rooms=4, bedrooms=2), Row(date='2021_02_12', price=175000.0, size=77.0, rooms=2, bedrooms=1), Row(date='2020_07_27', price=118000.0, size=48.0, rooms=0, bedrooms=2), Row(date='2021_02_12', price=450000.0, size=128.0, rooms=1, bedrooms=1), Row(date='2021_03_09', price=339500.0, size=80.0, rooms=3, bedrooms=3), Row(date='2021_02_12', price=680000.0, size=145.0, rooms=3, bedrooms=2), Row(date='2021_03_09', price=480000.0, size=111.0, rooms=5, bedrooms=2), Row(date='2021_03_09', price=286000.0, size=71.0, rooms=2, bedrooms=1), Row(date='2021_02_12', price=259000.0, size=114.0, rooms=3, bedrooms=1), Row(date='2021_02_12', price=358000.0, size=110.0, rooms=5, bedrooms=1), Row(date='2021_02_12', price=358000.0, size=100.0, rooms=5, bedrooms=1), Row(date='2021_02_12', price=295000.0, size=75.0, rooms=2, bedrooms=1), Row(date='2021_03_09', price=289000.0, size=75.0, rooms=3, bedrooms=1), Row(date='2021_02_12', price=320000.0, size=76.0, rooms=2, bedrooms=1), Row(date='2021_03_09', price=286000.0, size=74.0, rooms=2, bedrooms=1), Row(date='2021_02_12', price=210000.0, size=53.0, rooms=1, bedrooms=1), Row(date='2021_03_09', price=286000.0, size=70.0, rooms=2, bedrooms=1), Row(date='2021_02_12', price=490000.0, size=104.0, rooms=2, bedrooms=2), Row(date='2021_02_12', price=375000.0, size=86.0, rooms=2, bedrooms=1), Row(date='2020_11_15', price=725000.0, size=175.0, rooms=5, bedrooms=2), Row(date='2021_02_12', price=215000.0, size=68.0, rooms=2, bedrooms=1), Row(date='2021_02_12', price=179000.0, size=47.0, rooms=1, bedrooms=1), Row(date='2021_02_12', price=425000.0, size=155.0, rooms=3, bedrooms=2), Row(date='2021_01_25', price=259000.0, size=79.0, rooms=3, bedrooms=2), Row(date='2021_03_09', price=286000.0, size=70.0, rooms=2, bedrooms=1), Row(date='2021_03_09', price=389000.0, size=100.0, rooms=3, bedrooms=2), Row(date='2021_02_12', price=320000.0, size=96.0, rooms=2, bedrooms=1), Row(date='2021_02_12', price=295000.0, size=75.0, rooms=2, bedrooms=1), Row(date='2021_02_12', price=890000.0, size=172.0, rooms=4, bedrooms=2), Row(date='2021_02_12', price=125000.0, size=121.0, rooms=7, bedrooms=2), Row(date='2021_03_09', price=341000.0, size=78.0, rooms=2, bedrooms=1), Row(date='2021_02_12', price=780000.0, size=116.0, rooms=3, bedrooms=2), Row(date='2021_03_09', price=200000.0, size=53.0, rooms=1, bedrooms=1), Row(date='2021_02_12', price=240000.0, size=36.0, rooms=1, bedrooms=1), Row(date='2020_07_27', price=214000.0, size=49.0, rooms=1, bedrooms=1), Row(date='2021_02_12', price=480000.0, size=111.0, rooms=5, bedrooms=2), Row(date='2021_02_12', price=230000.0, size=71.0, rooms=3, bedrooms=1), Row(date='2021_02_12', price=499999.0, size=107.0, rooms=1, bedrooms=1), Row(date='2021_02_12', price=330000.0, size=96.0, rooms=4, bedrooms=1), Row(date='2021_03_09', price=390000.0, size=121.0, rooms=4, bedrooms=2), Row(date='2021_02_12', price=175000.0, size=71.0, rooms=1, bedrooms=1), Row(date='2021_02_12', price=995000.0, size=192.0, rooms=4, bedrooms=3), Row(date='2021_02_12', price=390000.0, size=121.0, rooms=4, bedrooms=2), Row(date='2021_02_12', price=157500.0, size=31.0, rooms=2, bedrooms=1), Row(date='2021_02_12', price=750000.0, size=121.0, rooms=3, bedrooms=2), Row(date='2020_10_27', price=265000.0, size=105.0, rooms=3, bedrooms=1), Row(date='2021_03_09', price=285000.0, size=92.0, rooms=3, bedrooms=1), Row(date='2021_03_09', price=339000.0, size=87.0, rooms=2, bedrooms=2), Row(date='2021_02_12', price=390000.0, size=68.0, rooms=0, bedrooms=1), Row(date='2020_07_27', price=220000.0, size=59.0, rooms=2, bedrooms=1), Row(date='2021_02_12', price=270000.0, size=57.0, rooms=3, bedrooms=2), Row(date='2020_12_10', price=337000.0, size=89.0, rooms=3, bedrooms=1), Row(date='2021_03_09', price=375000.0, size=97.0, rooms=2, bedrooms=1), Row(date='2021_02_12', price=350000.0, size=75.0, rooms=2, bedrooms=1), Row(date='2021_03_09', price=119000.0, size=31.0, rooms=1, bedrooms=1), Row(date='2021_02_12', price=358000.0, size=100.0, rooms=5, bedrooms=1), Row(date='2021_03_09', price=139000.0, size=31.0, rooms=1, bedrooms=1), Row(date='2021_02_12', price=380000.0, size=70.0, rooms=2, bedrooms=1), Row(date='2021_02_12', price=225000.0, size=43.0, rooms=1, bedrooms=1), Row(date='2021_02_12', price=299000.0, size=73.0, rooms=4, bedrooms=2), Row(date='2021_03_09', price=286000.0, size=74.0, rooms=2, bedrooms=1), Row(date='2021_02_12', price=205000.0, size=52.0, rooms=1, bedrooms=1), Row(date='2021_03_09', price=349000.0, size=68.0, rooms=0, bedrooms=1), Row(date='2021_03_09', price=304500.0, size=80.0, rooms=4, bedrooms=2), Row(date='2021_02_12', price=295000.0, size=76.0, rooms=2, bedrooms=1), Row(date='2021_03_09', price=99000.0, size=41.0, rooms=0, bedrooms=1), Row(date='2021_02_12', price=240000.0, size=49.0, rooms=1, bedrooms=1), Row(date='2021_02_12', price=195000.0, size=45.0, rooms=1, bedrooms=1), Row(date='2021_02_12', price=540000.0, size=117.0, rooms=3, bedrooms=2), Row(date='2021_02_12', price=385000.0, size=95.0, rooms=3, bedrooms=2), Row(date='2021_01_25', price=880000.0, size=185.0, rooms=8, bedrooms=4), Row(date='2021_02_12', price=225000.0, size=43.0, rooms=1, bedrooms=1), Row(date='2021_02_12', price=270000.0, size=59.0, rooms=2, bedrooms=1), Row(date='2021_02_12', price=385000.0, size=114.0, rooms=2, bedrooms=2), Row(date='2021_02_12', price=295000.0, size=75.0, rooms=2, bedrooms=1), Row(date='2021_01_25', price=195000.0, size=47.0, rooms=1, bedrooms=1), Row(date='2020_07_26', price=275000.0, size=66.0, rooms=1, bedrooms=1)], Monthly Price (€/month)=769.17, Monthly Price Increase=-65.5, Neighborhood='El Raval', Population Increase=712.0, Population recent=47986.0, RFD Increased=-3.4, RFD most recent=71.2, Surface Price (€/m2)=12.93, Surface Price Increase=-1.15, _id=Row(oid='6290d2e9c8fa691c9597adcd'))]"
      ]
     },
     "execution_count": 9,
     "metadata": {},
     "output_type": "execute_result"
    },
    {
     "name": "stderr",
     "output_type": "stream",
     "text": [
      "22/05/30 20:46:22 WARN HeartbeatReceiver: Removing executor driver with no recent heartbeats: 864140 ms exceeds timeout 120000 ms\n",
      "22/05/30 20:46:22 WARN SparkContext: Killing executors is not supported by current scheduler.\n"
     ]
    }
   ],
   "source": [
    "rdd.take(1)"
   ]
  },
  {
   "cell_type": "code",
   "execution_count": null,
   "id": "a7ac95f4",
   "metadata": {},
   "outputs": [],
   "source": []
  }
 ],
 "metadata": {
  "kernelspec": {
   "display_name": "Python 3 (ipykernel)",
   "language": "python",
   "name": "python3"
  },
  "language_info": {
   "codemirror_mode": {
    "name": "ipython",
    "version": 3
   },
   "file_extension": ".py",
   "mimetype": "text/x-python",
   "name": "python",
   "nbconvert_exporter": "python",
   "pygments_lexer": "ipython3",
   "version": "3.10.4"
  }
 },
 "nbformat": 4,
 "nbformat_minor": 5
}
